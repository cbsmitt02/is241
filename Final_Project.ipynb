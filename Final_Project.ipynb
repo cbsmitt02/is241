{
 "cells": [
  {
   "cell_type": "markdown",
   "id": "0cc99a1f",
   "metadata": {},
   "source": [
    "# COVID-19 Data in Brazil and Around the World\n"
   ]
  },
  {
   "cell_type": "markdown",
   "id": "b9b87c08",
   "metadata": {},
   "source": [
    "#### Author: Cora Smith      \n",
    "#### Email: smit23cb@dukes.jmu.edu       \n",
    "#### IA 241"
   ]
  },
  {
   "cell_type": "markdown",
   "id": "b2154929",
   "metadata": {},
   "source": [
    " ![covid image](https://phil.cdc.gov//PHIL_Images/23311/23311_lores.jpg)"
   ]
  },
  {
   "cell_type": "markdown",
   "id": "bdd2750e",
   "metadata": {},
   "source": [
    "## Introduction and COVID-19 Background  "
   ]
  },
  {
   "cell_type": "markdown",
   "id": "72de9624",
   "metadata": {},
   "source": [
    "The Coronavirus Disease also known as (COVID_19) is a disease caused by the virus name SARS-CoV-2 which was discovered in 2019 in Wuhan China. Since 2019, society rapidly became infected around the world due to the virus's highly contagious characteristics. COVID-19 primarily spreads through the air on droplets of saliva or nasal drainage following a cough or sneeze. \n",
    "\n",
    "COVID-19 changed the way the world operated and almost every in-person activity you could think of shifted to operate virtually. The economy quickly became disrupted and immense losses were felt around the world as business shutdown and isolation was enforced. Masks and other essentials became sparse and healthcare systems were flooded with rising numbers of patients unable to provide them all with normal quality of care.\n",
    "\n",
    "Almost two years later and things are finally starting the feel normal again for the world. Although there are variant cases arising, the overall numbers of cases and deaths around the world are much lower and easier to handle medically. Mask mandates are being dropped regionally and we can finally see friendly faces.\n",
    "\n"
   ]
  },
  {
   "cell_type": "markdown",
   "id": "0d71bdb3",
   "metadata": {},
   "source": [
    "The data source is downloaded from [European Centre for Disease Prevention and Control](https://www.ecdc.europa.eu/en/publications-data/download-todays-data-geographic-distribution-covid-19-cases-worldwide)\n",
    "\n"
   ]
  },
  {
   "cell_type": "code",
   "execution_count": 1,
   "id": "f9765acb",
   "metadata": {},
   "outputs": [],
   "source": [
    "%matplotlib inline\n",
    "import pandas "
   ]
  },
  {
   "cell_type": "markdown",
   "id": "91f0579e",
   "metadata": {},
   "source": [
    "### A Quick View of the Data "
   ]
  },
  {
   "cell_type": "markdown",
   "id": "b6926d40",
   "metadata": {},
   "source": [
    "This is a small look into the data collected by the data source  (European Centre for Disease Prevention and Control) as it focused it efforts to gather COVID-19 data from countries around the globe."
   ]
  },
  {
   "cell_type": "code",
   "execution_count": 9,
   "id": "9105bf40",
   "metadata": {
    "scrolled": true
   },
   "outputs": [
    {
     "data": {
      "text/html": [
       "<div>\n",
       "<style scoped>\n",
       "    .dataframe tbody tr th:only-of-type {\n",
       "        vertical-align: middle;\n",
       "    }\n",
       "\n",
       "    .dataframe tbody tr th {\n",
       "        vertical-align: top;\n",
       "    }\n",
       "\n",
       "    .dataframe thead th {\n",
       "        text-align: right;\n",
       "    }\n",
       "</style>\n",
       "<table border=\"1\" class=\"dataframe\">\n",
       "  <thead>\n",
       "    <tr style=\"text-align: right;\">\n",
       "      <th></th>\n",
       "      <th>dateRep</th>\n",
       "      <th>day</th>\n",
       "      <th>month</th>\n",
       "      <th>year</th>\n",
       "      <th>cases</th>\n",
       "      <th>deaths</th>\n",
       "      <th>countriesAndTerritories</th>\n",
       "      <th>geoId</th>\n",
       "      <th>countryterritoryCode</th>\n",
       "      <th>popData2019</th>\n",
       "      <th>continentExp</th>\n",
       "      <th>Cumulative_number_for_14_days_of_COVID-19_cases_per_100000</th>\n",
       "    </tr>\n",
       "  </thead>\n",
       "  <tbody>\n",
       "    <tr>\n",
       "      <th>0</th>\n",
       "      <td>14/12/2020</td>\n",
       "      <td>14</td>\n",
       "      <td>12</td>\n",
       "      <td>2020</td>\n",
       "      <td>746</td>\n",
       "      <td>6</td>\n",
       "      <td>Afghanistan</td>\n",
       "      <td>AF</td>\n",
       "      <td>AFG</td>\n",
       "      <td>38041757.0</td>\n",
       "      <td>Asia</td>\n",
       "      <td>9.013779</td>\n",
       "    </tr>\n",
       "    <tr>\n",
       "      <th>1</th>\n",
       "      <td>13/12/2020</td>\n",
       "      <td>13</td>\n",
       "      <td>12</td>\n",
       "      <td>2020</td>\n",
       "      <td>298</td>\n",
       "      <td>9</td>\n",
       "      <td>Afghanistan</td>\n",
       "      <td>AF</td>\n",
       "      <td>AFG</td>\n",
       "      <td>38041757.0</td>\n",
       "      <td>Asia</td>\n",
       "      <td>7.052776</td>\n",
       "    </tr>\n",
       "    <tr>\n",
       "      <th>2</th>\n",
       "      <td>2020-12-12 00:00:00</td>\n",
       "      <td>12</td>\n",
       "      <td>12</td>\n",
       "      <td>2020</td>\n",
       "      <td>113</td>\n",
       "      <td>11</td>\n",
       "      <td>Afghanistan</td>\n",
       "      <td>AF</td>\n",
       "      <td>AFG</td>\n",
       "      <td>38041757.0</td>\n",
       "      <td>Asia</td>\n",
       "      <td>6.868768</td>\n",
       "    </tr>\n",
       "    <tr>\n",
       "      <th>3</th>\n",
       "      <td>2020-11-12 00:00:00</td>\n",
       "      <td>11</td>\n",
       "      <td>12</td>\n",
       "      <td>2020</td>\n",
       "      <td>63</td>\n",
       "      <td>10</td>\n",
       "      <td>Afghanistan</td>\n",
       "      <td>AF</td>\n",
       "      <td>AFG</td>\n",
       "      <td>38041757.0</td>\n",
       "      <td>Asia</td>\n",
       "      <td>7.134266</td>\n",
       "    </tr>\n",
       "    <tr>\n",
       "      <th>4</th>\n",
       "      <td>2020-10-12 00:00:00</td>\n",
       "      <td>10</td>\n",
       "      <td>12</td>\n",
       "      <td>2020</td>\n",
       "      <td>202</td>\n",
       "      <td>16</td>\n",
       "      <td>Afghanistan</td>\n",
       "      <td>AF</td>\n",
       "      <td>AFG</td>\n",
       "      <td>38041757.0</td>\n",
       "      <td>Asia</td>\n",
       "      <td>6.968658</td>\n",
       "    </tr>\n",
       "    <tr>\n",
       "      <th>5</th>\n",
       "      <td>2020-09-12 00:00:00</td>\n",
       "      <td>9</td>\n",
       "      <td>12</td>\n",
       "      <td>2020</td>\n",
       "      <td>135</td>\n",
       "      <td>13</td>\n",
       "      <td>Afghanistan</td>\n",
       "      <td>AF</td>\n",
       "      <td>AFG</td>\n",
       "      <td>38041757.0</td>\n",
       "      <td>Asia</td>\n",
       "      <td>6.963401</td>\n",
       "    </tr>\n",
       "    <tr>\n",
       "      <th>6</th>\n",
       "      <td>2020-08-12 00:00:00</td>\n",
       "      <td>8</td>\n",
       "      <td>12</td>\n",
       "      <td>2020</td>\n",
       "      <td>200</td>\n",
       "      <td>6</td>\n",
       "      <td>Afghanistan</td>\n",
       "      <td>AF</td>\n",
       "      <td>AFG</td>\n",
       "      <td>38041757.0</td>\n",
       "      <td>Asia</td>\n",
       "      <td>7.094835</td>\n",
       "    </tr>\n",
       "    <tr>\n",
       "      <th>7</th>\n",
       "      <td>2020-07-12 00:00:00</td>\n",
       "      <td>7</td>\n",
       "      <td>12</td>\n",
       "      <td>2020</td>\n",
       "      <td>210</td>\n",
       "      <td>26</td>\n",
       "      <td>Afghanistan</td>\n",
       "      <td>AF</td>\n",
       "      <td>AFG</td>\n",
       "      <td>38041757.0</td>\n",
       "      <td>Asia</td>\n",
       "      <td>7.215755</td>\n",
       "    </tr>\n",
       "    <tr>\n",
       "      <th>8</th>\n",
       "      <td>2020-06-12 00:00:00</td>\n",
       "      <td>6</td>\n",
       "      <td>12</td>\n",
       "      <td>2020</td>\n",
       "      <td>234</td>\n",
       "      <td>10</td>\n",
       "      <td>Afghanistan</td>\n",
       "      <td>AF</td>\n",
       "      <td>AFG</td>\n",
       "      <td>38041757.0</td>\n",
       "      <td>Asia</td>\n",
       "      <td>7.326160</td>\n",
       "    </tr>\n",
       "    <tr>\n",
       "      <th>9</th>\n",
       "      <td>2020-05-12 00:00:00</td>\n",
       "      <td>5</td>\n",
       "      <td>12</td>\n",
       "      <td>2020</td>\n",
       "      <td>235</td>\n",
       "      <td>18</td>\n",
       "      <td>Afghanistan</td>\n",
       "      <td>AF</td>\n",
       "      <td>AFG</td>\n",
       "      <td>38041757.0</td>\n",
       "      <td>Asia</td>\n",
       "      <td>7.115865</td>\n",
       "    </tr>\n",
       "  </tbody>\n",
       "</table>\n",
       "</div>"
      ],
      "text/plain": [
       "               dateRep  day  month  year  cases  deaths  \\\n",
       "0           14/12/2020   14     12  2020    746       6   \n",
       "1           13/12/2020   13     12  2020    298       9   \n",
       "2  2020-12-12 00:00:00   12     12  2020    113      11   \n",
       "3  2020-11-12 00:00:00   11     12  2020     63      10   \n",
       "4  2020-10-12 00:00:00   10     12  2020    202      16   \n",
       "5  2020-09-12 00:00:00    9     12  2020    135      13   \n",
       "6  2020-08-12 00:00:00    8     12  2020    200       6   \n",
       "7  2020-07-12 00:00:00    7     12  2020    210      26   \n",
       "8  2020-06-12 00:00:00    6     12  2020    234      10   \n",
       "9  2020-05-12 00:00:00    5     12  2020    235      18   \n",
       "\n",
       "  countriesAndTerritories geoId countryterritoryCode  popData2019  \\\n",
       "0             Afghanistan    AF                  AFG   38041757.0   \n",
       "1             Afghanistan    AF                  AFG   38041757.0   \n",
       "2             Afghanistan    AF                  AFG   38041757.0   \n",
       "3             Afghanistan    AF                  AFG   38041757.0   \n",
       "4             Afghanistan    AF                  AFG   38041757.0   \n",
       "5             Afghanistan    AF                  AFG   38041757.0   \n",
       "6             Afghanistan    AF                  AFG   38041757.0   \n",
       "7             Afghanistan    AF                  AFG   38041757.0   \n",
       "8             Afghanistan    AF                  AFG   38041757.0   \n",
       "9             Afghanistan    AF                  AFG   38041757.0   \n",
       "\n",
       "  continentExp  Cumulative_number_for_14_days_of_COVID-19_cases_per_100000  \n",
       "0         Asia                                           9.013779           \n",
       "1         Asia                                           7.052776           \n",
       "2         Asia                                           6.868768           \n",
       "3         Asia                                           7.134266           \n",
       "4         Asia                                           6.968658           \n",
       "5         Asia                                           6.963401           \n",
       "6         Asia                                           7.094835           \n",
       "7         Asia                                           7.215755           \n",
       "8         Asia                                           7.326160           \n",
       "9         Asia                                           7.115865           "
      ]
     },
     "execution_count": 9,
     "metadata": {},
     "output_type": "execute_result"
    }
   ],
   "source": [
    "df = pandas.read_excel('s3://sagemaker-studio-964319044660-ft2ublrqkp/covid_data.xls')\n",
    "df[:10] #the top 10 rows"
   ]
  },
  {
   "cell_type": "markdown",
   "id": "e4144c7d",
   "metadata": {},
   "source": [
    "This command loaded in the data previously uploaded within a bucket in s3. The European Centre for Disease Prevention and Control primarily focused on specific aspects for their data from participating countries which are displayed on the top of the chart."
   ]
  },
  {
   "cell_type": "markdown",
   "id": "49a6288c",
   "metadata": {},
   "source": [
    "## The Top 15 Countries with the Highest Covid19 Cases"
   ]
  },
  {
   "cell_type": "code",
   "execution_count": 39,
   "id": "7fe12adc",
   "metadata": {},
   "outputs": [],
   "source": [
    "sum_cases_per_country=df.groupby('countriesAndTerritories').sum()['cases']"
   ]
  },
  {
   "cell_type": "code",
   "execution_count": 40,
   "id": "0eb72e39",
   "metadata": {},
   "outputs": [
    {
     "data": {
      "text/plain": [
       "<AxesSubplot:xlabel='countriesAndTerritories'>"
      ]
     },
     "execution_count": 40,
     "metadata": {},
     "output_type": "execute_result"
    },
    {
     "data": {
      "image/png": "[encoded data removed]",
      "text/plain": [
       "<Figure size 432x288 with 1 Axes>"
      ]
     },
     "metadata": {
      "needs_background": "light"
     },
     "output_type": "display_data"
    }
   ],
   "source": [
    "sum_cases_per_country.nlargest(15).plot.bar()"
   ]
  },
  {
   "cell_type": "markdown",
   "id": "2f452d89",
   "metadata": {},
   "source": [
    "This bar graph diagram organizes the countries with the most cases of Covid-19 that the European Centre for Disease Prevention and Control gathered data for. From the bar graph diagram it is clear these countries are ordered in decreasing order and The United States of America is the country with the most number of cases."
   ]
  },
  {
   "cell_type": "markdown",
   "id": "54b66d0d",
   "metadata": {},
   "source": [
    "## The Top 15 Countries with the Highest Covid19 Deaths "
   ]
  },
  {
   "cell_type": "code",
   "execution_count": 42,
   "id": "38f019c3",
   "metadata": {},
   "outputs": [],
   "source": [
    "sum_death_by_country=df.groupby('countriesAndTerritories').sum()['deaths']\n"
   ]
  },
  {
   "cell_type": "code",
   "execution_count": 47,
   "id": "bddbf644",
   "metadata": {},
   "outputs": [
    {
     "data": {
      "text/plain": [
       "<AxesSubplot:xlabel='countriesAndTerritories'>"
      ]
     },
     "execution_count": 47,
     "metadata": {},
     "output_type": "execute_result"
    },
    {
     "data": {
      "image/png": "[encoded data removed]",
      "text/plain": [
       "<Figure size 432x288 with 1 Axes>"
      ]
     },
     "metadata": {
      "needs_background": "light"
     },
     "output_type": "display_data"
    }
   ],
   "source": [
    "sum_death_by_country.nlargest(15).plot.bar()"
   ]
  },
  {
   "cell_type": "markdown",
   "id": "330e8611",
   "metadata": {},
   "source": [
    "This bar graph diagram organizes the countries with the most deaths due to Covid-19 that the European Centre for Disease Prevention and Control gathered data for. From the bar graph diagram it is clear these countries are ordered in decreasing order and The United States of America is the country with the highest number of deaths."
   ]
  },
  {
   "cell_type": "markdown",
   "id": "848c928c",
   "metadata": {},
   "source": [
    "## Brazil's Covid-19 Data"
   ]
  },
  {
   "cell_type": "code",
   "execution_count": 61,
   "id": "4fef5cf4",
   "metadata": {
    "scrolled": true
   },
   "outputs": [
    {
     "data": {
      "text/html": [
       "<div>\n",
       "<style scoped>\n",
       "    .dataframe tbody tr th:only-of-type {\n",
       "        vertical-align: middle;\n",
       "    }\n",
       "\n",
       "    .dataframe tbody tr th {\n",
       "        vertical-align: top;\n",
       "    }\n",
       "\n",
       "    .dataframe thead th {\n",
       "        text-align: right;\n",
       "    }\n",
       "</style>\n",
       "<table border=\"1\" class=\"dataframe\">\n",
       "  <thead>\n",
       "    <tr style=\"text-align: right;\">\n",
       "      <th></th>\n",
       "      <th>dateRep</th>\n",
       "      <th>day</th>\n",
       "      <th>month</th>\n",
       "      <th>year</th>\n",
       "      <th>cases</th>\n",
       "      <th>deaths</th>\n",
       "      <th>countriesAndTerritories</th>\n",
       "      <th>geoId</th>\n",
       "      <th>countryterritoryCode</th>\n",
       "      <th>popData2019</th>\n",
       "      <th>continentExp</th>\n",
       "      <th>Cumulative_number_for_14_days_of_COVID-19_cases_per_100000</th>\n",
       "    </tr>\n",
       "  </thead>\n",
       "  <tbody>\n",
       "    <tr>\n",
       "      <th>7991</th>\n",
       "      <td>14/12/2020</td>\n",
       "      <td>14</td>\n",
       "      <td>12</td>\n",
       "      <td>2020</td>\n",
       "      <td>21825</td>\n",
       "      <td>279</td>\n",
       "      <td>Brazil</td>\n",
       "      <td>BR</td>\n",
       "      <td>BRA</td>\n",
       "      <td>211049519.0</td>\n",
       "      <td>America</td>\n",
       "      <td>278.234228</td>\n",
       "    </tr>\n",
       "    <tr>\n",
       "      <th>7992</th>\n",
       "      <td>13/12/2020</td>\n",
       "      <td>13</td>\n",
       "      <td>12</td>\n",
       "      <td>2020</td>\n",
       "      <td>43900</td>\n",
       "      <td>686</td>\n",
       "      <td>Brazil</td>\n",
       "      <td>BR</td>\n",
       "      <td>BRA</td>\n",
       "      <td>211049519.0</td>\n",
       "      <td>America</td>\n",
       "      <td>279.486541</td>\n",
       "    </tr>\n",
       "    <tr>\n",
       "      <th>7993</th>\n",
       "      <td>2020-12-12 00:00:00</td>\n",
       "      <td>12</td>\n",
       "      <td>12</td>\n",
       "      <td>2020</td>\n",
       "      <td>54428</td>\n",
       "      <td>672</td>\n",
       "      <td>Brazil</td>\n",
       "      <td>BR</td>\n",
       "      <td>BRA</td>\n",
       "      <td>211049519.0</td>\n",
       "      <td>America</td>\n",
       "      <td>283.287544</td>\n",
       "    </tr>\n",
       "    <tr>\n",
       "      <th>7994</th>\n",
       "      <td>2020-11-12 00:00:00</td>\n",
       "      <td>11</td>\n",
       "      <td>12</td>\n",
       "      <td>2020</td>\n",
       "      <td>53347</td>\n",
       "      <td>770</td>\n",
       "      <td>Brazil</td>\n",
       "      <td>BR</td>\n",
       "      <td>BRA</td>\n",
       "      <td>211049519.0</td>\n",
       "      <td>America</td>\n",
       "      <td>273.669896</td>\n",
       "    </tr>\n",
       "    <tr>\n",
       "      <th>7995</th>\n",
       "      <td>2020-10-12 00:00:00</td>\n",
       "      <td>10</td>\n",
       "      <td>12</td>\n",
       "      <td>2020</td>\n",
       "      <td>53453</td>\n",
       "      <td>836</td>\n",
       "      <td>Brazil</td>\n",
       "      <td>BR</td>\n",
       "      <td>BRA</td>\n",
       "      <td>211049519.0</td>\n",
       "      <td>America</td>\n",
       "      <td>266.215248</td>\n",
       "    </tr>\n",
       "    <tr>\n",
       "      <th>7996</th>\n",
       "      <td>2020-09-12 00:00:00</td>\n",
       "      <td>9</td>\n",
       "      <td>12</td>\n",
       "      <td>2020</td>\n",
       "      <td>51088</td>\n",
       "      <td>842</td>\n",
       "      <td>Brazil</td>\n",
       "      <td>BR</td>\n",
       "      <td>BRA</td>\n",
       "      <td>211049519.0</td>\n",
       "      <td>America</td>\n",
       "      <td>263.583164</td>\n",
       "    </tr>\n",
       "    <tr>\n",
       "      <th>7997</th>\n",
       "      <td>2020-08-12 00:00:00</td>\n",
       "      <td>8</td>\n",
       "      <td>12</td>\n",
       "      <td>2020</td>\n",
       "      <td>20371</td>\n",
       "      <td>376</td>\n",
       "      <td>Brazil</td>\n",
       "      <td>BR</td>\n",
       "      <td>BRA</td>\n",
       "      <td>211049519.0</td>\n",
       "      <td>America</td>\n",
       "      <td>254.112401</td>\n",
       "    </tr>\n",
       "    <tr>\n",
       "      <th>7998</th>\n",
       "      <td>2020-07-12 00:00:00</td>\n",
       "      <td>7</td>\n",
       "      <td>12</td>\n",
       "      <td>2020</td>\n",
       "      <td>26363</td>\n",
       "      <td>313</td>\n",
       "      <td>Brazil</td>\n",
       "      <td>BR</td>\n",
       "      <td>BRA</td>\n",
       "      <td>211049519.0</td>\n",
       "      <td>America</td>\n",
       "      <td>252.139404</td>\n",
       "    </tr>\n",
       "    <tr>\n",
       "      <th>7999</th>\n",
       "      <td>2020-06-12 00:00:00</td>\n",
       "      <td>6</td>\n",
       "      <td>12</td>\n",
       "      <td>2020</td>\n",
       "      <td>43209</td>\n",
       "      <td>664</td>\n",
       "      <td>Brazil</td>\n",
       "      <td>BR</td>\n",
       "      <td>BRA</td>\n",
       "      <td>211049519.0</td>\n",
       "      <td>America</td>\n",
       "      <td>248.468228</td>\n",
       "    </tr>\n",
       "    <tr>\n",
       "      <th>8000</th>\n",
       "      <td>2020-05-12 00:00:00</td>\n",
       "      <td>5</td>\n",
       "      <td>12</td>\n",
       "      <td>2020</td>\n",
       "      <td>46884</td>\n",
       "      <td>694</td>\n",
       "      <td>Brazil</td>\n",
       "      <td>BR</td>\n",
       "      <td>BRA</td>\n",
       "      <td>211049519.0</td>\n",
       "      <td>America</td>\n",
       "      <td>243.451870</td>\n",
       "    </tr>\n",
       "  </tbody>\n",
       "</table>\n",
       "</div>"
      ],
      "text/plain": [
       "                  dateRep  day  month  year  cases  deaths  \\\n",
       "7991           14/12/2020   14     12  2020  21825     279   \n",
       "7992           13/12/2020   13     12  2020  43900     686   \n",
       "7993  2020-12-12 00:00:00   12     12  2020  54428     672   \n",
       "7994  2020-11-12 00:00:00   11     12  2020  53347     770   \n",
       "7995  2020-10-12 00:00:00   10     12  2020  53453     836   \n",
       "7996  2020-09-12 00:00:00    9     12  2020  51088     842   \n",
       "7997  2020-08-12 00:00:00    8     12  2020  20371     376   \n",
       "7998  2020-07-12 00:00:00    7     12  2020  26363     313   \n",
       "7999  2020-06-12 00:00:00    6     12  2020  43209     664   \n",
       "8000  2020-05-12 00:00:00    5     12  2020  46884     694   \n",
       "\n",
       "     countriesAndTerritories geoId countryterritoryCode  popData2019  \\\n",
       "7991                  Brazil    BR                  BRA  211049519.0   \n",
       "7992                  Brazil    BR                  BRA  211049519.0   \n",
       "7993                  Brazil    BR                  BRA  211049519.0   \n",
       "7994                  Brazil    BR                  BRA  211049519.0   \n",
       "7995                  Brazil    BR                  BRA  211049519.0   \n",
       "7996                  Brazil    BR                  BRA  211049519.0   \n",
       "7997                  Brazil    BR                  BRA  211049519.0   \n",
       "7998                  Brazil    BR                  BRA  211049519.0   \n",
       "7999                  Brazil    BR                  BRA  211049519.0   \n",
       "8000                  Brazil    BR                  BRA  211049519.0   \n",
       "\n",
       "     continentExp  Cumulative_number_for_14_days_of_COVID-19_cases_per_100000  \n",
       "7991      America                                         278.234228           \n",
       "7992      America                                         279.486541           \n",
       "7993      America                                         283.287544           \n",
       "7994      America                                         273.669896           \n",
       "7995      America                                         266.215248           \n",
       "7996      America                                         263.583164           \n",
       "7997      America                                         254.112401           \n",
       "7998      America                                         252.139404           \n",
       "7999      America                                         248.468228           \n",
       "8000      America                                         243.451870           "
      ]
     },
     "execution_count": 61,
     "metadata": {},
     "output_type": "execute_result"
    }
   ],
   "source": [
    "Brazil_data = df.loc[df['countriesAndTerritories'] == 'Brazil']\n",
    "Brazil_data[:10] #the top 10 rows"
   ]
  },
  {
   "cell_type": "markdown",
   "id": "9b2da5ad",
   "metadata": {},
   "source": [
    "## Brazil's Covid-19 Data"
   ]
  },
  {
   "cell_type": "markdown",
   "id": "e8237837",
   "metadata": {},
   "source": [
    "This is a small portion of the data collected by the European Centre for Disease Prevention and Control on Brazil. This command was displayed by specifying the command to pull data from only Brazil by utilizing the \"countriesAndTerritories\" coulmn of data. This specification will only display Brazil and eliminate all data from other countries."
   ]
  },
  {
   "cell_type": "markdown",
   "id": "554daef3",
   "metadata": {},
   "source": [
    "## The Sum of Covid-19 Cases in Brazil"
   ]
  },
  {
   "cell_type": "markdown",
   "id": "04d99312",
   "metadata": {},
   "source": [
    "This code identifies the total number of Covid-19 cases that have been recorded in Brazil. This was calculated by submitting a sum code for the Brazil data column listed as \"cases\"."
   ]
  },
  {
   "cell_type": "code",
   "execution_count": 63,
   "id": "9c6ef852",
   "metadata": {},
   "outputs": [
    {
     "data": {
      "text/plain": [
       "6901952"
      ]
     },
     "execution_count": 63,
     "metadata": {},
     "output_type": "execute_result"
    }
   ],
   "source": [
    "Brazil_data.sum()['cases']"
   ]
  },
  {
   "cell_type": "markdown",
   "id": "e70ed0c3",
   "metadata": {},
   "source": [
    "The output of this code depicts that there have been 6,901,952 cases due to Covid-19 in Brazil."
   ]
  },
  {
   "cell_type": "markdown",
   "id": "55dd68b2",
   "metadata": {},
   "source": [
    "## The Sum of Covid-19 Deaths in Brazil"
   ]
  },
  {
   "cell_type": "markdown",
   "id": "dc9422d1",
   "metadata": {},
   "source": [
    "This code identifies the total number of Covid-19 deaths that have been recorded in Brazil. This was calculated by submitting a sum code for the Brazil data column listed as \"deaths\"."
   ]
  },
  {
   "cell_type": "code",
   "execution_count": 62,
   "id": "32b7770c",
   "metadata": {},
   "outputs": [
    {
     "data": {
      "text/plain": [
       "181402"
      ]
     },
     "execution_count": 62,
     "metadata": {},
     "output_type": "execute_result"
    }
   ],
   "source": [
    "Brazil_data.sum()['deaths']"
   ]
  },
  {
   "cell_type": "markdown",
   "id": "f4ceaf1c",
   "metadata": {},
   "source": [
    "The output of this code depicts that there have been 181,402 deaths due to Covid-19 in Brazil."
   ]
  },
  {
   "cell_type": "markdown",
   "id": "468f8e5e",
   "metadata": {},
   "source": [
    "## Trend of Covid-19 Deaths in Brazil "
   ]
  },
  {
   "cell_type": "markdown",
   "id": "31b42b3f",
   "metadata": {},
   "source": [
    "this code depicts the trend of Covid-19 deaths in Brazil. This was calculated by grouping the sum of the 'dateRep' of the 'deaths' and assigning it to the variable 'sum_deaths_per_day'. Following the grouping the line chart was created depicting the results of the code."
   ]
  },
  {
   "cell_type": "code",
   "execution_count": 65,
   "id": "19ba17f4",
   "metadata": {},
   "outputs": [],
   "source": [
    "sum_deaths_per_day=Brazil_data.groupby('dateRep').sum()['deaths']"
   ]
  },
  {
   "cell_type": "code",
   "execution_count": 66,
   "id": "f7b7c5b6",
   "metadata": {},
   "outputs": [
    {
     "data": {
      "text/plain": [
       "<AxesSubplot:xlabel='dateRep'>"
      ]
     },
     "execution_count": 66,
     "metadata": {},
     "output_type": "execute_result"
    },
    {
     "data": {
      "image/png": "[encoded data removed]",
      "text/plain": [
       "<Figure size 432x288 with 1 Axes>"
      ]
     },
     "metadata": {
      "needs_background": "light"
     },
     "output_type": "display_data"
    }
   ],
   "source": [
    "sum_deaths_per_day.plot()"
   ]
  },
  {
   "cell_type": "markdown",
   "id": "41e591d4",
   "metadata": {},
   "source": [
    "Indicating the trend of Covid-19 deaths in Brazil was frequently fluctuating and has been unpredictable. "
   ]
  },
  {
   "cell_type": "markdown",
   "id": "3582fc6a",
   "metadata": {},
   "source": [
    "## The Number of Cases Related to the Number of Deaths in Brazil over time"
   ]
  },
  {
   "cell_type": "markdown",
   "id": "7e071f2d",
   "metadata": {},
   "source": [
    "This code predicts the rend of Covid-19 deaths in relation to the trend of cases in Brazil. This was calculated by using the Brazil data and assigning variables to the number of deaths, number of cases, and time in months, and then creating a scatter plot to best show this relationship."
   ]
  },
  {
   "cell_type": "code",
   "execution_count": 67,
   "id": "fc12fd64",
   "metadata": {},
   "outputs": [
    {
     "data": {
      "text/plain": [
       "<AxesSubplot:xlabel='cases', ylabel='deaths'>"
      ]
     },
     "execution_count": 67,
     "metadata": {},
     "output_type": "execute_result"
    },
    {
     "data": {
      "image/png": "[encoded data removed]",
      "text/plain": [
       "<Figure size 432x288 with 1 Axes>"
      ]
     },
     "metadata": {
      "needs_background": "light"
     },
     "output_type": "display_data"
    }
   ],
   "source": [
    "Brazil_data.plot.scatter(x='cases',y='deaths')"
   ]
  },
  {
   "cell_type": "markdown",
   "id": "91eda763",
   "metadata": {},
   "source": [
    "The scatter plot diagram details the highest and lowest values of both cases and deaths for Covid-19 in Brazil. From the scatter plot diagram it is evident the amount of deaths directly correlated with the number of cases in Brazil."
   ]
  },
  {
   "cell_type": "markdown",
   "id": "090c7509",
   "metadata": {},
   "source": [
    "## Conclusion, Limitations, and Further Research"
   ]
  },
  {
   "cell_type": "markdown",
   "id": "6d52da92",
   "metadata": {},
   "source": [
    "In conclusion, the European Centre for Disease Prevention and Control provided comprehensive data regarding Covid-19 around the world and effects the pandemic had on the population. This analysis specifically focuses on Brazil's Covid-19 data including, total number of cases, total number of deaths, the trend of cases over time, the trend of deaths over time, and the overall number of deaths in relation to the number of cases of Covid-19 in Brazil.\n",
    "\n",
    "Limitations to this analysis and research is that this data was specific to countries and did not include states, territories, or regions within the countries. Also, the data could include current data sets and information. Including and updating this information would allow for greater analysis revealing different effects of Covid-19.\n",
    "\n",
    "Suggestions fot further research would be to consider including recent data from 2020, 2021, or 2022. Also, to include data from smaller regions of land and look at age groups of people (both cases and deaths). These further research suggestions would alow for a stronger analysis covering more data and providing a better understanding of the effects of Covid-19 on places around the world."
   ]
  },
  {
   "cell_type": "code",
   "execution_count": null,
   "id": "4d58f3de",
   "metadata": {},
   "outputs": [],
   "source": []
  }
 ],
 "metadata": {
  "kernelspec": {
   "display_name": "conda_python3",
   "language": "python",
   "name": "conda_python3"
  },
  "language_info": {
   "codemirror_mode": {
    "name": "ipython",
    "version": 3
   },
   "file_extension": ".py",
   "mimetype": "text/x-python",
   "name": "python",
   "nbconvert_exporter": "python",
   "pygments_lexer": "ipython3",
   "version": "3.6.13"
  }
 },
 "nbformat": 4,
 "nbformat_minor": 5
}
